{
 "cells": [
  {
   "cell_type": "code",
   "execution_count": 1,
   "id": "b2bc2acf-98ed-4a7e-87f8-99e8a1bc623c",
   "metadata": {},
   "outputs": [
    {
     "name": "stderr",
     "output_type": "stream",
     "text": [
      "[nltk_data] Downloading package stopwords to\n",
      "[nltk_data]     C:\\Users\\fahad\\AppData\\Roaming\\nltk_data...\n",
      "[nltk_data]   Package stopwords is already up-to-date!\n"
     ]
    },
    {
     "data": {
      "text/plain": [
       "True"
      ]
     },
     "execution_count": 1,
     "metadata": {},
     "output_type": "execute_result"
    }
   ],
   "source": [
    "import nltk\n",
    "from nltk.corpus import stopwords\n",
    "nltk.download(\"stopwords\")"
   ]
  },
  {
   "cell_type": "markdown",
   "id": "0204ff4c-fb22-48f6-8af9-ccbea516eccb",
   "metadata": {},
   "source": [
    "lets analyse stop words"
   ]
  },
  {
   "cell_type": "code",
   "execution_count": 2,
   "id": "4e5f58b0-04df-424f-bfe2-c7c8622ebf73",
   "metadata": {},
   "outputs": [
    {
     "name": "stdout",
     "output_type": "stream",
     "text": [
      "179\n",
      "['i', 'me', 'my', 'myself', 'we', 'our', 'ours', 'ourselves', 'you', \"you're\", \"you've\", \"you'll\", \"you'd\", 'your', 'yours', 'yourself', 'yourselves', 'he', 'him', 'his', 'himself', 'she', \"she's\", 'her', 'hers', 'herself', 'it', \"it's\", 'its', 'itself', 'they', 'them', 'their', 'theirs', 'themselves', 'what', 'which', 'who', 'whom', 'this', 'that', \"that'll\", 'these', 'those', 'am', 'is', 'are', 'was', 'were', 'be', 'been', 'being', 'have', 'has', 'had', 'having', 'do', 'does', 'did', 'doing', 'a', 'an', 'the', 'and', 'but', 'if', 'or', 'because', 'as', 'until', 'while', 'of', 'at', 'by', 'for', 'with', 'about', 'against', 'between', 'into', 'through', 'during', 'before', 'after', 'above', 'below', 'to', 'from', 'up', 'down', 'in', 'out', 'on', 'off', 'over', 'under', 'again', 'further', 'then', 'once', 'here', 'there', 'when', 'where', 'why', 'how', 'all', 'any', 'both', 'each', 'few', 'more', 'most', 'other', 'some', 'such', 'no', 'nor', 'not', 'only', 'own', 'same', 'so', 'than', 'too', 'very', 's', 't', 'can', 'will', 'just', 'don', \"don't\", 'should', \"should've\", 'now', 'd', 'll', 'm', 'o', 're', 've', 'y', 'ain', 'aren', \"aren't\", 'couldn', \"couldn't\", 'didn', \"didn't\", 'doesn', \"doesn't\", 'hadn', \"hadn't\", 'hasn', \"hasn't\", 'haven', \"haven't\", 'isn', \"isn't\", 'ma', 'mightn', \"mightn't\", 'mustn', \"mustn't\", 'needn', \"needn't\", 'shan', \"shan't\", 'shouldn', \"shouldn't\", 'wasn', \"wasn't\", 'weren', \"weren't\", 'won', \"won't\", 'wouldn', \"wouldn't\"]\n",
      "['i', 'me', 'my', 'myself', 'we', 'our', 'ours', 'ourselves', 'you', \"you're\"] ... ['shouldn', \"shouldn't\", 'wasn', \"wasn't\", 'weren', \"weren't\", 'won', \"won't\", 'wouldn', \"wouldn't\"]\n",
      "['i', 'me', 'my', 'myself'] ... ['won', \"won't\", 'wouldn', \"wouldn't\"]\n"
     ]
    }
   ],
   "source": [
    "sw_en = stopwords.words(\"english\")\n",
    "print(len(sw_en))\n",
    "print(sw_en)# list of all stopwords\n",
    "print(sw_en[:10], \"...\", sw_en[-10:])\n",
    "print(sw_en[:4], \"...\", sw_en[-4:])"
   ]
  },
  {
   "cell_type": "code",
   "execution_count": null,
   "id": "f7a4db36-2390-47c2-9531-75ee33f8c315",
   "metadata": {},
   "outputs": [],
   "source": []
  },
  {
   "cell_type": "code",
   "execution_count": 3,
   "id": "c4c59a2b-82aa-42c8-a01e-6cbe0ff8f027",
   "metadata": {},
   "outputs": [
    {
     "name": "stderr",
     "output_type": "stream",
     "text": [
      "[nltk_data] Downloading package wordnet to\n",
      "[nltk_data]     C:\\Users\\fahad\\AppData\\Roaming\\nltk_data...\n",
      "[nltk_data]   Package wordnet is already up-to-date!\n"
     ]
    },
    {
     "name": "stdout",
     "output_type": "stream",
     "text": [
      "[Synset('flight.n.01'), Synset('flight.n.02'), Synset('flight.n.03'), Synset('escape.n.01'), Synset('flight.n.05'), Synset('flight.n.06'), Synset('trajectory.n.01'), Synset('flight.n.08'), Synset('flight.n.09'), Synset('flight.v.01'), Synset('flight.v.02'), Synset('fledge.v.02')]\n",
      "Synonymous words (or 'lemmas'): ['flight']\n",
      "Definition: a formation of aircraft in flight\n",
      "Examples: []\n",
      "Types: []\n",
      "Parts: []\n",
      "Synonymous words (or 'lemmas'): ['flight', 'flying']\n",
      "Definition: an instance of traveling by air\n",
      "Examples: ['flying was still an exciting adventure for him']\n",
      "Types: [Synset('acrobatics.n.02'), Synset('ballooning.n.01'), Synset('blind_flying.n.01'), Synset('flyover.n.02'), Synset('glide.n.03'), Synset('maiden_flight.n.01'), Synset('overflight.n.01'), Synset('pass.n.07'), Synset('solo.n.03'), Synset('sortie.n.02'), Synset('terrain_flight.n.01')]\n",
      "Parts: []\n",
      "Synonymous words (or 'lemmas'): ['flight', 'flight_of_stairs', 'flight_of_steps']\n",
      "Definition: a stairway (set of steps) between one floor or landing and the next\n",
      "Examples: []\n",
      "Types: []\n",
      "Parts: []\n",
      "Synonymous words (or 'lemmas'): ['escape', 'flight']\n",
      "Definition: the act of escaping physically\n",
      "Examples: ['he made his escape from the mental hospital', 'the canary escaped from its cage', 'his flight was an indication of his guilt']\n",
      "Types: [Synset('break.n.16'), Synset('evasion.n.04'), Synset('exodus.n.01'), Synset('getaway.n.02'), Synset('skedaddle.n.01')]\n",
      "Parts: []\n",
      "Synonymous words (or 'lemmas'): ['flight']\n",
      "Definition: an air force unit smaller than a squadron\n",
      "Examples: []\n",
      "Types: []\n",
      "Parts: []\n",
      "Synonymous words (or 'lemmas'): ['flight']\n",
      "Definition: passing above and beyond ordinary bounds\n",
      "Examples: ['a flight of fancy', 'flights of rhetoric', 'flights of imagination']\n",
      "Types: []\n",
      "Parts: []\n",
      "Synonymous words (or 'lemmas'): ['trajectory', 'flight']\n",
      "Definition: the path followed by an object moving through space\n",
      "Examples: []\n",
      "Types: [Synset('ballistics.n.01'), Synset('gravity-assist.n.01')]\n",
      "Parts: []\n",
      "Synonymous words (or 'lemmas'): ['flight']\n",
      "Definition: a flock of flying birds\n",
      "Examples: []\n",
      "Types: []\n",
      "Parts: []\n",
      "Synonymous words (or 'lemmas'): ['flight']\n",
      "Definition: a scheduled trip by plane between designated airports\n",
      "Examples: ['I took the noon flight to Chicago']\n",
      "Types: [Synset('connecting_flight.n.01'), Synset('direct_flight.n.01'), Synset('domestic_flight.n.01'), Synset('international_flight.n.01'), Synset('nonstop_flight.n.01'), Synset('redeye.n.01')]\n",
      "Parts: []\n",
      "Synonymous words (or 'lemmas'): ['flight']\n",
      "Definition: shoot a bird in flight\n",
      "Examples: []\n",
      "Types: []\n",
      "Parts: []\n",
      "Synonymous words (or 'lemmas'): ['flight']\n",
      "Definition: fly in a flock\n",
      "Examples: ['flighting wild geese']\n",
      "Types: []\n",
      "Parts: []\n",
      "Synonymous words (or 'lemmas'): ['fledge', 'flight']\n",
      "Definition: decorate with feathers\n",
      "Examples: ['fledge an arrow']\n",
      "Types: []\n",
      "Parts: []\n"
     ]
    }
   ],
   "source": [
    "from nltk.corpus import wordnet\n",
    "nltk.download(\"wordnet\")\n",
    "\n",
    "# The synsets() method return a list of Synset (synonym set) objects\n",
    "ss_flight_list = wordnet.synsets(\"flight\")\n",
    "\n",
    "# In this example, the word \"flight\" in wordnet \"\n",
    "print(ss_flight_list)\n",
    "\n",
    "for ss_flight in ss_flight_list:\n",
    "   print(\"Synonymous words (or 'lemmas'):\", ss_flight.lemma_names())\n",
    "   print(\"Definition:\", ss_flight.definition())\n",
    "   print(\"Examples:\", ss_flight.examples())\n",
    "   print(\"Types:\", ss_flight.hyponyms())\n",
    "   print(\"Parts:\", ss_flight.part_meronyms())"
   ]
  },
  {
   "cell_type": "code",
   "execution_count": null,
   "id": "6bab58d7-1157-4ef6-bfd1-fcb838de7037",
   "metadata": {},
   "outputs": [],
   "source": []
  }
 ],
 "metadata": {
  "kernelspec": {
   "display_name": "Python 3 (ipykernel)",
   "language": "python",
   "name": "python3"
  },
  "language_info": {
   "codemirror_mode": {
    "name": "ipython",
    "version": 3
   },
   "file_extension": ".py",
   "mimetype": "text/x-python",
   "name": "python",
   "nbconvert_exporter": "python",
   "pygments_lexer": "ipython3",
   "version": "3.11.7"
  }
 },
 "nbformat": 4,
 "nbformat_minor": 5
}
