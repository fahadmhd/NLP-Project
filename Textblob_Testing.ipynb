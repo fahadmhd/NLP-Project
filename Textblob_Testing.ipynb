{
 "cells": [
  {
   "cell_type": "code",
   "execution_count": 1,
   "id": "b2ffa5da-b6ec-4723-ab85-3d639694fd96",
   "metadata": {},
   "outputs": [],
   "source": [
    "#!pip install TextBlob"
   ]
  },
  {
   "cell_type": "code",
   "execution_count": 2,
   "id": "76f6a36f-16f2-403d-95fc-78a430f2ed81",
   "metadata": {},
   "outputs": [],
   "source": [
    "from textblob import TextBlob"
   ]
  },
  {
   "cell_type": "code",
   "execution_count": 3,
   "id": "b07f714a-ceb5-4539-b0c9-895c6d21d548",
   "metadata": {},
   "outputs": [],
   "source": [
    "text = \"I love using visiting this place. WOW, It's fantastic!\""
   ]
  },
  {
   "cell_type": "code",
   "execution_count": 4,
   "id": "a44bcdd8-634d-4d38-8b5c-91134b17ed29",
   "metadata": {},
   "outputs": [],
   "source": [
    "blob = TextBlob(text)"
   ]
  },
  {
   "cell_type": "code",
   "execution_count": 5,
   "id": "0fb9b648-dead-4d72-a649-104e551e0204",
   "metadata": {},
   "outputs": [
    {
     "name": "stdout",
     "output_type": "stream",
     "text": [
      "I love using visiting this place. WOW, It's fantastic!\n"
     ]
    }
   ],
   "source": [
    "print(blob)"
   ]
  },
  {
   "cell_type": "code",
   "execution_count": 6,
   "id": "27d6312c-19bb-466f-bcae-ec0e2c2ff0ab",
   "metadata": {},
   "outputs": [],
   "source": [
    "sentiment = blob.sentiment.polarity"
   ]
  },
  {
   "cell_type": "code",
   "execution_count": 7,
   "id": "bfb4535e-c75a-4260-b8b8-67e91dc2f6c0",
   "metadata": {},
   "outputs": [
    {
     "name": "stdout",
     "output_type": "stream",
     "text": [
      "0.3666666666666667\n"
     ]
    }
   ],
   "source": [
    "print(sentiment)"
   ]
  },
  {
   "cell_type": "code",
   "execution_count": null,
   "id": "fc8dd8af-adc0-472a-a978-0ecf2ed490b0",
   "metadata": {},
   "outputs": [],
   "source": [
    "# you geta a value of sentiment"
   ]
  }
 ],
 "metadata": {
  "kernelspec": {
   "display_name": "Python 3 (ipykernel)",
   "language": "python",
   "name": "python3"
  },
  "language_info": {
   "codemirror_mode": {
    "name": "ipython",
    "version": 3
   },
   "file_extension": ".py",
   "mimetype": "text/x-python",
   "name": "python",
   "nbconvert_exporter": "python",
   "pygments_lexer": "ipython3",
   "version": "3.11.7"
  }
 },
 "nbformat": 4,
 "nbformat_minor": 5
}
